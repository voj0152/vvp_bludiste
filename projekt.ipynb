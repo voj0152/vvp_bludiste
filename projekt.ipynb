{
 "cells": [
  {
   "cell_type": "markdown",
   "metadata": {},
   "source": [
    "Nacteni ze souboru:\n"
   ]
  },
  {
   "cell_type": "code",
   "execution_count": 72,
   "metadata": {},
   "outputs": [],
   "source": [
    "import numpy as np\n",
    "import matplotlib.pyplot as plt\n",
    "\n",
    "def load_data(file_name):\n",
    "    data = np.loadtxt(file_name, delimiter=\",\", dtype=bool)\n",
    "    return data\n",
    "\n",
    "def incident(maze):\n",
    "    height, width = maze.shape\n",
    "    incident_matrix = np.zeros((height*width, height*width))\n",
    "    for i in range(height):\n",
    "        for j in range(width):\n",
    "            if not maze[i,j]:\n",
    "                incident_row = i * width + j\n",
    "                if i != height - 1 and not maze[i+1,j]:\n",
    "                    incident_column = (i + 1) * width + j\n",
    "                    incident_matrix[incident_row, incident_column] = 1\n",
    "                    incident_matrix[incident_column, incident_row] = 1\n",
    "                if j != width - 1 and not maze[i,j+1]:\n",
    "                    incident_column = i * width + j + 1\n",
    "                    incident_matrix[incident_row, incident_column] = 1\n",
    "                    incident_matrix[incident_column, incident_row] = 1\n",
    "\n",
    "    return incident_matrix\n",
    "\n"
   ]
  },
  {
   "cell_type": "markdown",
   "metadata": {},
   "source": [
    "Najit nejkratsi cestu:"
   ]
  },
  {
   "cell_type": "code",
   "execution_count": 89,
   "metadata": {},
   "outputs": [],
   "source": [
    "import matplotlib.pyplot as plt\n",
    "from matplotlib.colors import ListedColormap\n",
    "import numpy as np\n",
    "\n",
    "def find_shortest_path(incident_matrix, start_node=0, end_node=None):\n",
    "    if end_node is None:\n",
    "        end_node = incident_matrix.shape[0] - 1\n",
    "    visited = [False] * incident_matrix.shape[0]\n",
    "    visited[start_node] = True\n",
    "    queue = [start_node]\n",
    "    list_of_paths = [[start_node]]\n",
    "    while queue:\n",
    "        current = queue.pop(0)\n",
    "        path = list_of_paths.pop(0)\n",
    "        if current == end_node:\n",
    "            return path\n",
    "        for i in range(incident_matrix.shape[0]):\n",
    "            if not visited[i] and incident_matrix[current, i]:\n",
    "                visited[i] = True\n",
    "                queue.append(i)\n",
    "                list_of_paths.append(path + [i])\n",
    "    return None\n",
    "\n",
    "def add_path_to_maze(maze, shortest_path):\n",
    "    maze = maze.astype(int)\n",
    "    for i in shortest_path:\n",
    "        row = i // maze.shape[1]\n",
    "        column = i % maze.shape[1]\n",
    "        maze[row, column] = 2\n",
    "    return maze\n",
    "\n",
    "def plot_maze(maze):\n",
    "    plt.imshow(maze, cmap=ListedColormap(['white', 'black', 'red']))\n",
    "    plt.axis('off')\n",
    "    plt.show()\n",
    "\n",
    "\n",
    "\n",
    "\n",
    "    \n",
    "    "
   ]
  },
  {
   "cell_type": "code",
   "execution_count": 81,
   "metadata": {},
   "outputs": [],
   "source": [
    "def solve_maze(maze_file):\n",
    "    maze = load_data(maze_file)\n",
    "    incident_matrix = incident(maze)\n",
    "    path = find_shortest_path(incident_matrix)\n",
    "    maze = add_path_to_maze(maze, path)\n",
    "    plot_maze(maze)\n"
   ]
  },
  {
   "cell_type": "code",
   "execution_count": 90,
   "metadata": {},
   "outputs": [
    {
     "data": {
      "image/png": "[encoded data removed]",
      "text/plain": [
       "<Figure size 432x288 with 1 Axes>"
      ]
     },
     "metadata": {
      "needs_background": "light"
     },
     "output_type": "display_data"
    },
    {
     "data": {
      "image/png": "[encoded data removed]",
      "text/plain": [
       "<Figure size 432x288 with 1 Axes>"
      ]
     },
     "metadata": {
      "needs_background": "light"
     },
     "output_type": "display_data"
    },
    {
     "data": {
      "image/png": "[encoded data removed]",
      "text/plain": [
       "<Figure size 432x288 with 1 Axes>"
      ]
     },
     "metadata": {
      "needs_background": "light"
     },
     "output_type": "display_data"
    },
    {
     "data": {
      "image/png": "[encoded data removed]",
      "text/plain": [
       "<Figure size 432x288 with 1 Axes>"
      ]
     },
     "metadata": {
      "needs_background": "light"
     },
     "output_type": "display_data"
    },
    {
     "data": {
      "image/png": "[encoded data removed]",
      "text/plain": [
       "<Figure size 432x288 with 1 Axes>"
      ]
     },
     "metadata": {
      "needs_background": "light"
     },
     "output_type": "display_data"
    }
   ],
   "source": [
    "solve_maze(\"data/maze_1.csv\")\n",
    "solve_maze(\"data/maze_2.csv\")\n",
    "solve_maze(\"data/maze_3.csv\")\n",
    "solve_maze(\"data/maze_4.csv\")\n",
    "solve_maze(\"data/maze_5.csv\")"
   ]
  },
  {
   "cell_type": "code",
   "execution_count": null,
   "metadata": {},
   "outputs": [],
   "source": []
  },
  {
   "cell_type": "code",
   "execution_count": null,
   "metadata": {},
   "outputs": [],
   "source": []
  }
 ],
 "metadata": {
  "kernelspec": {
   "display_name": "Python 3",
   "language": "python",
   "name": "python3"
  },
  "language_info": {
   "codemirror_mode": {
    "name": "ipython",
    "version": 3
   },
   "file_extension": ".py",
   "mimetype": "text/x-python",
   "name": "python",
   "nbconvert_exporter": "python",
   "pygments_lexer": "ipython3",
   "version": "3.10.12"
  }
 },
 "nbformat": 4,
 "nbformat_minor": 2
}
