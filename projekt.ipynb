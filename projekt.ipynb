{
 "cells": [
  {
   "cell_type": "code",
   "execution_count": 42,
   "metadata": {},
   "outputs": [],
   "source": [
    "import random\n",
    "import numpy as np\n",
    "from typing import Literal\n",
    "from code.maze import Maze\n",
    "\n",
    "m = Maze()\n",
    "\n",
    "\n",
    "def shortest_check_old(incident_matrix: np.ndarray, start_node: int = 0, end_node: int | None = None) -> tuple[bool, list[int]]:\n",
    "    if end_node is None:\n",
    "        end_node = incident_matrix.shape[0] - 1\n",
    "    visited = [False] * incident_matrix.shape[0]\n",
    "    visited[start_node] = True\n",
    "    queue = [start_node]\n",
    "    list_of_paths = [[start_node]]\n",
    "    non_zero = [i for i, line in enumerate(incident_matrix) if np.any(line)]\n",
    "    while queue:\n",
    "        current = queue.pop(0)\n",
    "        path = list_of_paths.pop(0)\n",
    "        if current == end_node:\n",
    "            return True, path\n",
    "        for i in non_zero:\n",
    "            if not visited[i] and incident_matrix[current, i]:\n",
    "                visited[i] = True\n",
    "                queue.append(i)\n",
    "                list_of_paths.append(path + [i])\n",
    "    return False, []\n"
   ]
  },
  {
   "cell_type": "code",
   "execution_count": 4,
   "metadata": {},
   "outputs": [],
   "source": [
    "def shortest_check(incident_matrix: np.ndarray, start_node: int = 0, end_node: int | None = None):\n",
    "    if end_node is None:\n",
    "        end_node = incident_matrix.shape[0] - 1\n",
    "    visited = [False] * incident_matrix.shape[0]\n",
    "    visited[start_node] = True\n",
    "    queue = [start_node]\n",
    "    list_of_paths = [[start_node]]\n",
    "    non_zero = [i for i, line in enumerate(incident_matrix) if np.any(line)]\n",
    "    while queue:\n",
    "        current = queue.pop(0)\n",
    "        path = list_of_paths.pop(0)\n",
    "        if current == end_node:\n",
    "            return True, path\n",
    "        for i in non_zero:\n",
    "            if not visited[i] and incident_matrix[current, i]:\n",
    "                visited[i] = True\n",
    "                queue.append(i)\n",
    "                list_of_paths.append(path + [i])\n",
    "    return False, []"
   ]
  },
  {
   "cell_type": "code",
   "execution_count": 215,
   "metadata": {},
   "outputs": [
    {
     "data": {
      "image/png": "[encoded data removed]",
      "text/plain": [
       "<Figure size 432x288 with 1 Axes>"
      ]
     },
     "metadata": {
      "needs_background": "light"
     },
     "output_type": "display_data"
    },
    {
     "data": {
      "image/png": "[encoded data removed]",
      "text/plain": [
       "<Figure size 432x288 with 1 Axes>"
      ]
     },
     "metadata": {
      "needs_background": "light"
     },
     "output_type": "display_data"
    }
   ],
   "source": [
    "maze = m.generate_temple(40, mode=\"empty\")\n",
    "height, width = maze.shape\n",
    "numbers = np.random.choice(range(1, width**2), width**2 - 1, replace=False)\n",
    "\n",
    "def generate_maze_test(maze: np.ndarray,numbers, iter_num: int = 10) -> np.ndarray:\n",
    "    incident_matrix = m.incident(maze)\n",
    "    non_solvable = 0\n",
    "    height, width = maze.shape\n",
    "    cor, path = shortest_check(incident_matrix)\n",
    "    i = 0\n",
    "    while non_solvable < iter_num and i < width**2 - 1:\n",
    "        num = numbers[i]\n",
    "        row = num // width\n",
    "        column = num % width\n",
    "        maze[row, column] = 1\n",
    "        if column != 0 and not maze[row, column-1]:\n",
    "            incident_matrix[num, num - 1] = 0\n",
    "            incident_matrix[num - 1, num] = 0\n",
    "        if column != width - 1 and not maze[row, column+1]:\n",
    "            incident_matrix[num, num + 1] = 0\n",
    "            incident_matrix[num + 1, num] = 0\n",
    "        if row != 0 and not maze[row-1, column]:\n",
    "            incident_matrix[num, (row - 1) * width + column] = 0\n",
    "            incident_matrix[(row - 1) * width + column, num] = 0\n",
    "        if row != height - 1 and not maze[row+1, column]:\n",
    "            incident_matrix[num, (row + 1) * width + column] = 0\n",
    "            incident_matrix[(row + 1) * width + column, num] = 0\n",
    "        if num in path:\n",
    "            cor, path_new = shortest_check(incident_matrix)\n",
    "            if not cor:\n",
    "                non_solvable += 1\n",
    "                maze[row, column] = 0\n",
    "                if column != 0 and not maze[row, column-1]:\n",
    "                    incident_matrix[num, num - 1] = 1\n",
    "                    incident_matrix[num - 1, num] = 1\n",
    "                if column != width - 1 and not maze[row, column+1]:\n",
    "                    incident_matrix[num, num + 1] = 1\n",
    "                    incident_matrix[num + 1, num] = 1\n",
    "                if row != 0 and not maze[row-1, column]:\n",
    "                    incident_matrix[num, (row - 1) * width + column] = 1\n",
    "                    incident_matrix[(row - 1) * width + column, num] = 1\n",
    "                if row != height - 1 and not maze[row+1, column]:\n",
    "                    incident_matrix[num, (row + 1) * width + column] = 1\n",
    "                    incident_matrix[(row + 1) * width + column, num] = 1\n",
    "            else:\n",
    "                path = path_new\n",
    "        i += 1\n",
    "    return maze\n",
    "\n",
    "\n",
    "def generate_maze_test_slower(maze: np.ndarray, numbers, iter_num: int = 10) -> np.ndarray:\n",
    "    incident_matrix = m.incident(maze)\n",
    "    non_solvable = 0\n",
    "    height, width = maze.shape\n",
    "    cor, path = shortest_check(incident_matrix)\n",
    "    i = 0\n",
    "    while non_solvable < iter_num and i < width**2 - 1:\n",
    "        num = numbers[i]\n",
    "        row = num // width\n",
    "        column = num % width\n",
    "        maze[row, column] = 1\n",
    "        incident_matrix_copy = incident_matrix[num, :].copy()\n",
    "        incident_matrix[num, :] = 0\n",
    "        incident_matrix[:, num] = 0\n",
    "        if num in path:\n",
    "            cor, path_new = shortest_check(incident_matrix)\n",
    "            if not cor:\n",
    "                non_solvable += 1\n",
    "                incident_matrix[num, :] = incident_matrix_copy\n",
    "                incident_matrix[:, num] = incident_matrix_copy\n",
    "                maze[row, column] = 0\n",
    "            else:\n",
    "                path = path_new\n",
    "        i += 1\n",
    "    return maze\n",
    "\n",
    "maze = generate_maze_test(maze, numbers, 2)\n",
    "incident_matrix = m.incident(maze)\n",
    "path = m.find_shortest_path(incident_matrix)\n",
    "maze = m.add_path_to_maze(maze, path)\n",
    "m.plot_maze(maze)\n",
    "maze = m.generate_temple(40, mode=\"empty\")\n",
    "maze = generate_maze_test_slower(maze, numbers, 2)\n",
    "incident_matrix = m.incident(maze)\n",
    "path = m.find_shortest_path(incident_matrix)\n",
    "maze = m.add_path_to_maze(maze, path)\n",
    "m.plot_maze(maze)"
   ]
  },
  {
   "cell_type": "code",
   "execution_count": 223,
   "metadata": {},
   "outputs": [
    {
     "name": "stdout",
     "output_type": "stream",
     "text": [
      "277 ms ± 10.9 ms per loop (mean ± std. dev. of 7 runs, 1 loop each)\n"
     ]
    }
   ],
   "source": [
    "# to do so numbers dont repeat, we can use np.random.choice\n",
    "# optimize the code with path\n",
    "\n",
    "maze = m.generate_temple(40, mode=\"empty\")\n",
    "%timeit generate_maze_test(maze, numbers, 20)"
   ]
  },
  {
   "cell_type": "code",
   "execution_count": 222,
   "metadata": {},
   "outputs": [
    {
     "name": "stdout",
     "output_type": "stream",
     "text": [
      "294 ms ± 8.04 ms per loop (mean ± std. dev. of 7 runs, 1 loop each)\n"
     ]
    }
   ],
   "source": [
    "# check if its overides the ones in maze\n",
    "maze = m.generate_temple(40, mode=\"empty\")\n",
    "%timeit generate_maze_test_slower(maze, numbers, 20)"
   ]
  }
 ],
 "metadata": {
  "kernelspec": {
   "display_name": "Python 3",
   "language": "python",
   "name": "python3"
  },
  "language_info": {
   "codemirror_mode": {
    "name": "ipython",
    "version": 3
   },
   "file_extension": ".py",
   "mimetype": "text/x-python",
   "name": "python",
   "nbconvert_exporter": "python",
   "pygments_lexer": "ipython3",
   "version": "3.10.12"
  }
 },
 "nbformat": 4,
 "nbformat_minor": 2
}
