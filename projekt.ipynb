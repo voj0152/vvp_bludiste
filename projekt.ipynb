{
 "cells": [
  {
   "cell_type": "code",
   "execution_count": 324,
   "metadata": {},
   "outputs": [
    {
     "data": {
      "image/png": "[encoded data removed]",
      "text/plain": [
       "<Figure size 432x288 with 1 Axes>"
      ]
     },
     "metadata": {
      "needs_background": "light"
     },
     "output_type": "display_data"
    }
   ],
   "source": [
    "import random\n",
    "import numpy as np\n",
    "from typing import Literal\n",
    "from maze import Maze\n",
    "\n",
    "m = Maze()\n",
    "\n",
    "def generate_temple(size: int, mode: Literal['empty', 'slalom', 'ess'] = \"empty\") -> np.ndarray:\n",
    "    maze = np.zeros((size, size), dtype=bool)\n",
    "    if mode == \"empty\":\n",
    "        pass\n",
    "    elif mode == \"slalom\":\n",
    "        for i in range(1, size - 1):\n",
    "            if i % 10 == 0:\n",
    "                maze[i, :size-1] = 1\n",
    "            elif i % 5 == 0:\n",
    "                maze[i, 1:size] = 1\n",
    "    elif mode == \"ess\":\n",
    "        fifth = size//5\n",
    "        for i in range(fifth, 2*fifth):\n",
    "            maze[i, :fifth*4] = 1\n",
    "        for i in range(3*fifth, 4*fifth):\n",
    "            maze[i, fifth:size] = 1\n",
    "    return maze\n",
    "\n",
    "def generate_maze(maze: np.ndarray, iter_num: int = 10) -> np.ndarray:\n",
    "    incident_matrix = m.incident(maze)\n",
    "    non_solvable = 0\n",
    "    height, width = maze.shape\n",
    "    while non_solvable < iter_num:\n",
    "        num = random.randint(1, width**2 - 2)\n",
    "        row = num // width\n",
    "        column = num % width\n",
    "        incident_row = row * width + column\n",
    "        incident_matrix_row_copy = incident_matrix[incident_row, :].copy()\n",
    "        incident_matrix_column_copy = incident_matrix[:, incident_row].copy()\n",
    "        incident_matrix[incident_row, :] = 0\n",
    "        incident_matrix[:, incident_row] = 0\n",
    "        if row != 0 and not maze[row-1, column]:\n",
    "            incident_column = (row - 1) * width + column\n",
    "            incident_matrix[incident_row, incident_column] = 0\n",
    "            incident_matrix[incident_column, incident_row] = 0\n",
    "        if column != 0 and not maze[row, column-1]:\n",
    "            incident_column = row * width + column - 1\n",
    "            incident_matrix[incident_row, incident_column] = 0\n",
    "            incident_matrix[incident_column, incident_row] = 0\n",
    "        maze[row, column] = 1\n",
    "        if not shortest_check(incident_matrix):\n",
    "            non_solvable += 1\n",
    "            incident_matrix[incident_row, :] = incident_matrix_row_copy\n",
    "            incident_matrix[:, incident_row] = incident_matrix_column_copy\n",
    "            maze[row, column] = 0\n",
    "    return maze\n",
    "\n",
    "\n",
    "def shortest_check(incident_matrix: np.ndarray, start_node: int = 0, end_node: int | None = None) -> bool:\n",
    "    if end_node is None:\n",
    "        end_node = incident_matrix.shape[0] - 1\n",
    "    visited = [False] * incident_matrix.shape[0]\n",
    "    visited[start_node] = True\n",
    "    queue = [start_node]\n",
    "    while queue:\n",
    "        current = queue.pop(0)\n",
    "        if current == end_node:\n",
    "            return True\n",
    "        for i in range(incident_matrix.shape[0]):\n",
    "            if not visited[i] and incident_matrix[current, i]:\n",
    "                visited[i] = True\n",
    "                queue.append(i)\n",
    "    return False\n",
    "\n",
    "maze = generate_temple(20, mode=\"slalom\")\n",
    "maze = generate_maze(maze, iter_num=20)\n",
    "incident_matrix = m.incident(maze)\n",
    "path = m.find_shortest_path(incident_matrix)\n",
    "maze = m.add_path_to_maze(maze, path)\n",
    "m.plot_maze(maze)"
   ]
  },
  {
   "cell_type": "code",
   "execution_count": 286,
   "metadata": {},
   "outputs": [
    {
     "data": {
      "image/png": "[encoded data removed]",
      "text/plain": [
       "<Figure size 432x288 with 1 Axes>"
      ]
     },
     "metadata": {
      "needs_background": "light"
     },
     "output_type": "display_data"
    },
    {
     "data": {
      "image/png": "[encoded data removed]",
      "text/plain": [
       "<Figure size 432x288 with 1 Axes>"
      ]
     },
     "metadata": {
      "needs_background": "light"
     },
     "output_type": "display_data"
    }
   ],
   "source": [
    "from maze import Maze\n",
    "m = Maze()\n",
    "m.solve_maze(\"data/maze_2.csv\")\n",
    "m.solve_maze(\"data/maze_3.csv\")"
   ]
  }
 ],
 "metadata": {
  "kernelspec": {
   "display_name": "Python 3",
   "language": "python",
   "name": "python3"
  },
  "language_info": {
   "codemirror_mode": {
    "name": "ipython",
    "version": 3
   },
   "file_extension": ".py",
   "mimetype": "text/x-python",
   "name": "python",
   "nbconvert_exporter": "python",
   "pygments_lexer": "ipython3",
   "version": "3.10.12"
  }
 },
 "nbformat": 4,
 "nbformat_minor": 2
}
